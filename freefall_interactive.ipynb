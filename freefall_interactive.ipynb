{
 "cells": [
  {
   "cell_type": "code",
   "execution_count": 1,
   "metadata": {},
   "outputs": [],
   "source": [
    "%matplotlib inline\n",
    "import matplotlib.pyplot as plt\n",
    "import numpy as np"
   ]
  },
  {
   "cell_type": "code",
   "execution_count": 2,
   "metadata": {},
   "outputs": [],
   "source": [
    "from __future__ import print_function\n",
    "from ipywidgets import interact, interactive, fixed, interact_manual\n",
    "import ipywidgets as widgets"
   ]
  },
  {
   "cell_type": "code",
   "execution_count": 12,
   "metadata": {},
   "outputs": [
    {
     "data": {
      "application/vnd.jupyter.widget-view+json": {
       "model_id": "db32840df97e4b928ecab8fc89c4613d",
       "version_major": 2,
       "version_minor": 0
      },
      "text/plain": [
       "interactive(children=(Dropdown(description='g', options={'earth': 9.81, 'moon': 1.62, 'jupyter': 23}, value=9.…"
      ]
     },
     "metadata": {},
     "output_type": "display_data"
    }
   ],
   "source": [
    "@interact(g = {'earth': 9.81, 'moon': 1.62, 'jupyter':23}, k=(0.0, 4.0, 0.1), m=(0.1, 50, 1), \n",
    "          v0 =(-20, 20, 1))\n",
    "\n",
    "def main(g=9.81, k=0.24, m=10.0, v0=0):\n",
    "\n",
    "# interact機能で下の条件を調整できるようにします。\n",
    "# g :重力加速度(m/s^2) \n",
    "# k :空気抵抗(抗力係数)(kg/m)\n",
    "# m :重さ(kg)\n",
    "\n",
    "    def f(v): #運動方程式 dv/dt=? の?の部分\n",
    "        return (m*g-k*v**2)/m\n",
    "\n",
    "    vtrj = [v0] #速度の配列 m/s\n",
    "    xtrj = [100.0] #高さの配列 m\n",
    "    array_t = [0.0] #時間 sec\n",
    "\n",
    "    v = vtrj[0] #初期速度 プラスは鉛直下方向\n",
    "    x = xtrj[0] #初期高さ　0で地面\n",
    "    t = array_t[0] #初期時間\n",
    "    h = 0.1e0 #ルンゲクッタ法の時間幅 \n",
    "\n",
    "    try:\n",
    "        while x >= 0.0e0: #地面に着くまで計算を繰り返す\n",
    "            k1 = h*f(v)\n",
    "            k2 = h*f(v+0.5*k1)\n",
    "            k3 = h*f(v+0.5*k2)\n",
    "            k4 = h*f(v+k3)\n",
    "            v = v + (k1+2*k2+2*k3+k4)/6\n",
    "            x = x - v*h\n",
    "            t = t + h\n",
    "            vtrj = np.append(vtrj,v)\n",
    "            xtrj = np.append(xtrj,x)\n",
    "            array_t = np.append(array_t,t)\n",
    "    except OverflowError:\n",
    "        print('えらーです！オーバーフローしました。')\n",
    "\n",
    "#グラフ描写\n",
    "    plt.title('free fall from 100m height')\n",
    "    plt.plot(array_t,vtrj, label='v')\n",
    "    plt.plot(array_t,xtrj, label='x')\n",
    "    plt.plot(t, 0, 'or')\n",
    "    plt.plot(t, v, 'ob')\n",
    "    plt.xlim(0,20)\n",
    "    plt.ylim(-50,200)\n",
    "    plt.xlabel('sec')\n",
    "    plt.ylabel('m, m/s')\n",
    "    plt.text(15.5, 100, 'g= '+str(g)+'m/s^2\\n'+'k= '+str(k)+'[-]\\n'+'m='+str(m)+'kg\\n'+'v0= '+str(v0)+'m/s')\n",
    "    if t < 8:\n",
    "        plt.text(t+0.5, -5, \"fall-time = {:.2f}sec\".format(t))\n",
    "        plt.text(t+0.5, v, \"final-speed = {:.2f}m/s\".format(v))\n",
    "    else:\n",
    "        plt.text(8, -5, \"fall-time = {:.2f}sec\".format(t))\n",
    "        plt.text(8, v, \"final-speed = {:.2f}m/s\".format(v))\n",
    "    plt.legend()"
   ]
  },
  {
   "cell_type": "code",
   "execution_count": null,
   "metadata": {},
   "outputs": [],
   "source": []
  }
 ],
 "metadata": {
  "kernelspec": {
   "display_name": "Python 3",
   "language": "python",
   "name": "python3"
  },
  "language_info": {
   "codemirror_mode": {
    "name": "ipython",
    "version": 3
   },
   "file_extension": ".py",
   "mimetype": "text/x-python",
   "name": "python",
   "nbconvert_exporter": "python",
   "pygments_lexer": "ipython3",
   "version": "3.6.6"
  }
 },
 "nbformat": 4,
 "nbformat_minor": 2
}
